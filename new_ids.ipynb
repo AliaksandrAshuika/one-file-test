{
  "cells": [
    {
      "cell_type": "markdown",
      "metadata": {
        "colab_type": "text",
        "id": "custom_1"
      },
      "source": [
        "##### Header 1\n",
        "New content 1\n"
      ]
    },
    {
      "cell_type": "markdown",
      "metadata": {
        "colab_type": "text",
        "id": "custom_2"
      },
      "source": [
        "##### Header 2\n",
        "New content 2\n"
      ]
    }
  ]
}
