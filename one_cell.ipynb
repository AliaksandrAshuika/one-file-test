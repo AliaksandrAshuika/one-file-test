{
  "cells": [
    {
      "cell_type": "markdown",
      "metadata": {
        "colab_type": "text",
        "id": "6bYaCABobL5q"
      },
      "source": [
        Content"
      ]
    }
  ]
}
