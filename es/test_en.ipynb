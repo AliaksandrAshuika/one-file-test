{
  "cells": [
    {
      "cell_type": "markdown",
      "metadata": {
        "colab_type": "text",
        "id": "Jxv6goXm7oGF"
      },
      "source": [
        "##### Copyright 2018 The TensorFlow Authors.\n",
        "\n",
        "Licensed under the Apache License, Version 2.0 (the \"License\");"
      ]
    },
    {
      "cell_type": "code",
      "execution_count": 0,
      "metadata": {
        "cellView": "form",
        "colab": {},
        "colab_type": "code",
        "id": "llMNufAK7nfK"
      },
      "outputs": [],
      "source": [
        "#@title Licensed under the Apache License, Version 2.0 (the \"License\"); { display-mode: \"form\" }\n",
        "# you may not use this file except in compliance with the License.\n",
        "# You may obtain a copy of the License at\n",
        "#\n",
        "# https://www.apache.org/licenses/LICENSE-2.0\n",
        "#\n",
        "# Unless required by applicable law or agreed to in writing, software\n",
        "# distributed under the License is distributed on an \"AS IS\" BASIS,\n",
        "# WITHOUT WARRANTIES OR CONDITIONS OF ANY KIND, either express or implied.\n",
        "# See the License for the specific language governing permissions and\n",
        "# limitations under the License."
      ]
    },
    {
      "cell_type": "markdown",
      "metadata": {
        "colab_type": "text",
        "id": "8Byow2J6LaPl"
      },
      "source": [
        "# Mejor rendimiento con tf.function y AutoGraph"
      ]
    },
    {
      "cell_type": "markdown",
      "metadata": {
        "colab_type": "text",
        "id": "CydFK2CL7ZHA"
      },
      "source": [
        "TF 2.0 reúne la facilidad de ejecución ansiosa y el poder de TF 1.0. En el centro de esta fusión se encuentra `tf.function` , que le permite transformar un subconjunto de sintaxis de Python en gráficos portátiles TensorFlow de alto rendimiento.\n",
        "\n",
        "Una característica nueva y genial de `tf.function` es AutoGraph, que le permite escribir código gráfico utilizando la sintaxis natural de Python. Para obtener una lista de las características de Python que puede usar con AutoGraph, consulte [Capacidades y limitaciones de AutoGraph](https://github.com/tensorflow/tensorflow/blob/master/tensorflow/python/autograph/g3doc/reference/limitations.md) . Para obtener más detalles acerca de `tf.function` , consulte RFC [TF 2.0: Funciones, no sesiones](https://github.com/tensorflow/community/blob/master/rfcs/20180918-functions-not-sessions-20.md) . Para obtener más detalles sobre AutoGraph, consulte `tf.autograph` .\n",
        "\n",
        "Este tutorial lo guiará a través de las características básicas de `tf.function` y AutoGraph."
      ]
    }
  ],
  "metadata": {
    "colab": {
      "collapsed_sections": [
        "Jxv6goXm7oGF"
      ],
      "name": "file_67cb35f5-b172-4919-ab94-db4d6d99385f.ipynb",
      "private_outputs": true,
      "provenance": [],
      "toc_visible": true
    },
    "kernelspec": {
      "display_name": "Python 3",
      "name": "python3"
    }
  },
  "nbformat": 4,
  "nbformat_minor": 0
}
