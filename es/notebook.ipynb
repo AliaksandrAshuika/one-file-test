{
  "cells": [
    {
      "cell_type": "markdown",
      "metadata": {
        "colab_type": "text",
        "id": "Tce3stUlHN0L"
      },
      "source": [
        "##### Copyright 2020 The TensorFlow Authors."
      ]
    },
    {
      "cell_type": "code",
      "execution_count": 0,
      "metadata": {
        "cellView": "form",
        "colab": {},
        "colab_type": "code",
        "id": "tuOe1ymfHZPu"
      },
      "outputs": [],
      "source": [
        "#@title Licensed under the Apache License, Version 2.0 (the \"License\");\n",
        "# you may not use this file except in compliance with the License.\n",
        "# You may obtain a copy of the License at\n",
        "#\n",
        "# https://www.apache.org/licenses/LICENSE-2.0\n",
        "#\n",
        "# Unless required by applicable law or agreed to in writing, software\n",
        "# distributed under the License is distributed on an \"AS IS\" BASIS,\n",
        "# WITHOUT WARRANTIES OR CONDITIONS OF ANY KIND, either express or implied.\n",
        "# See the License for the specific language governing permissions and\n",
        "# limitations under the License."
      ]
    },
    {
      "cell_type": "markdown",
      "metadata": {
        "colab_type": "text",
        "id": "qFdPvlXBOdUN"
      },
      "source": [
        "# Título"
      ]
    },
    {
      "cell_type": "markdown",
      "metadata": {
        "colab_type": "text",
        "id": "MfBg1C5NB3X0"
      },
      "source": [
        "<table class=\"tfo-notebook-buttons\" align=\"left\">\n",
        "  <td>\n",
        "    <p data-md-type=\"paragraph\"><a target=\"_blank\" href=\"https://www.tensorflow.org/not_a_real_link\"><img src=\"https://www.tensorflow.org/images/tf_logo_32px.png\"> Ver en TensorFlow.org</a></p>\n",
        "  </td>\n",
        "  <td>\n",
        "    <p data-md-type=\"paragraph\"><a target=\"_blank\" href=\"https://colab.research.google.com/github/tensorflow/docs/blob/master/tools/templates/notebook.ipynb\"><img src=\"https://www.tensorflow.org/images/colab_logo_32px.png\"> Ejecutar en Google Colab</a></p>\n",
        "  </td>\n",
        "  <td>\n",
        "    <p data-md-type=\"paragraph\"><a target=\"_blank\" href=\"https://github.com/tensorflow/docs/blob/master/tools/templates/notebook.ipynb\"><img src=\"https://www.tensorflow.org/images/GitHub-Mark-32px.png\"> Ver código fuente en GitHub</a></p>\n",
        "  </td>\n",
        "  <td>\n",
        "    <p data-md-type=\"paragraph\"><a href=\"https://storage.googleapis.com/tensorflow_docs/docs/tools/templates/notebook.ipynb\"><img src=\"https://www.tensorflow.org/images/download_logo_32px.png\"> Descargar cuaderno</a></p>\n",
        "  </td>\n",
        "</table>"
      ]
    },
    {
      "cell_type": "markdown",
      "metadata": {
        "colab_type": "text",
        "id": "r6P32iYYV27b"
      },
      "source": [
        "[Actualizar enlaces de botones]"
      ]
    },
    {
      "cell_type": "markdown",
      "metadata": {
        "colab_type": "text",
        "id": "xHxb-dlhMIzW"
      },
      "source": [
        "## Visión general\n",
        "\n",
        "[Incluya uno o dos párrafos que expliquen lo que demuestra este ejemplo, quién debería estar interesado en él y lo que necesita saber antes de comenzar.]"
      ]
    },
    {
      "cell_type": "markdown",
      "metadata": {
        "colab_type": "text",
        "id": "MUXex9ctTuDB"
      },
      "source": [
        "## Preparar"
      ]
    },
    {
      "cell_type": "markdown",
      "metadata": {
        "colab_type": "text",
        "id": "1Eh-iCRVBm0p"
      },
      "source": [
        "[Coloque todas sus importaciones e instalaciones en una sección de configuración.]"
      ]
    },
    {
      "cell_type": "code",
      "execution_count": 0,
      "metadata": {
        "colab": {},
        "colab_type": "code",
        "id": "IqR2PQG4ZaZ0"
      },
      "outputs": [],
      "source": [
        "import tensorflow as tf\n",
        "\n",
        "import numpy as np"
      ]
    },
    {
      "cell_type": "markdown",
      "metadata": {
        "colab_type": "text",
        "id": "UhNtHfuxCGVy"
      },
      "source": [
        "## Recursos\n",
        "\n",
        "- [Guía del colaborador de la documentación de TensorFlow](https://www.tensorflow.org/community/contribute/docs)\n",
        "- [Guía de estilo de documentación de TensorFlow](https://www.tensorflow.org/community/contribute/docs_style)\n",
        "- [Guía de estilo de documentación para desarrolladores de Google](https://developers.google.com/style/highlights)"
      ]
    },
    {
      "cell_type": "markdown",
      "metadata": {
        "colab_type": "text",
        "id": "2V22fKegUtF9"
      },
      "source": [
        "## Estilo cuaderno\n",
        "\n",
        "- Incluya la licencia contraída en la parte superior (utiliza el modo \"Formulario\" de Colab para ocultar las celdas).\n",
        "- Guarde el cuaderno con la tabla de contenido abierta.\n",
        "- Use un encabezado `H1` para el título.\n",
        "- Incluya la barra de botones inmediatamente después del `H1` .\n",
        "- Evite usar encabezados `H1` para títulos de sección. Use `H2` y `H3` lugar.\n",
        "- Los encabezados que son `H4` y siguientes no son visibles en la barra de navegación de [tensorflow.org](http://www.tensorflow.org) .\n",
        "- Incluya una sección de resumen antes de cualquier código.\n",
        "- Ponga todas sus instalaciones e importaciones en una sección de configuración.\n",
        "- Incluya siempre las `__future__` importaciones.\n",
        "- Escribir código compatible con Python 3.\n",
        "- Mantenga el código y las celdas de texto lo más breve posible.\n",
        "- Evite dejar una celda vacía al final del cuaderno."
      ]
    },
    {
      "cell_type": "markdown",
      "metadata": {
        "colab_type": "text",
        "id": "QKp40qS-DGEZ"
      },
      "source": [
        "### Estilo de código\n",
        "\n",
        "- Los cuadernos son para personas. Escribir código optimizado para mayor claridad.\n",
        "- Use la [Guía de estilo de Google Python](http://google.github.io/styleguide/pyguide.html) , cuando corresponda.\n",
        "- tensorflow.org no admite tramas interactivas.\n",
        "- Mantenga ejemplos rápidos. Use conjuntos de datos pequeños o pequeñas porciones de conjuntos de datos. No entrenes para la convergencia, entrena hasta que sea obvio que está progresando.\n",
        "- Demuestre partes pequeñas antes de combinarlas en algo más complejo, como este:"
      ]
    },
    {
      "cell_type": "code",
      "execution_count": 0,
      "metadata": {
        "colab": {},
        "colab_type": "code",
        "id": "KtylpxOmceaC"
      },
      "outputs": [],
      "source": [
        "# Build the model\n",
        "model = tf.keras.Sequential([\n",
        "    tf.keras.layers.Dense(10, activation='relu', input_shape=(None, 5)),\n",
        "    tf.keras.layers.Dense(3)\n",
        "])"
      ]
    },
    {
      "cell_type": "markdown",
      "metadata": {
        "colab_type": "text",
        "id": "pwdM2pl3RSPb"
      },
      "source": [
        "Ejecute el modelo en un solo lote de datos e inspeccione la salida:"
      ]
    },
    {
      "cell_type": "code",
      "execution_count": 0,
      "metadata": {
        "colab": {},
        "colab_type": "code",
        "id": "mMOeXVmbdilM"
      },
      "outputs": [],
      "source": [
        "result = model(tf.constant(np.random.randn(10,5), dtype = tf.float32)).numpy()\n",
        "\n",
        "print(\"min:\", result.min())\n",
        "print(\"max:\", result.max())\n",
        "print(\"mean:\", result.mean())\n",
        "print(\"shape:\", result.shape)"
      ]
    },
    {
      "cell_type": "markdown",
      "metadata": {
        "colab_type": "text",
        "id": "uabQmjMtRtzs"
      },
      "source": [
        "Compile el modelo para el entrenamiento:"
      ]
    },
    {
      "cell_type": "code",
      "execution_count": 0,
      "metadata": {
        "colab": {},
        "colab_type": "code",
        "id": "U82B_tH2d294"
      },
      "outputs": [],
      "source": [
        "model.compile(optimizer=tf.keras.optimizers.Adam(),\n",
        "              loss=tf.keras.losses.categorical_crossentropy)"
      ]
    },
    {
      "cell_type": "markdown",
      "metadata": {
        "colab_type": "text",
        "id": "TJdqBNBbS78n"
      },
      "source": [
        "### Contenido del código\n",
        "\n",
        "- Utilice la API de nivel más alto que realiza el trabajo (a menos que el objetivo sea demostrar la API de nivel bajo).\n",
        "- Use `keras.Sequential` > api funcional de keras> subclases de modelo de keras> ...\n",
        "- Use `model.fit` > `model.train_on_batch` > manual `GradientTapes` .\n",
        "- Usa un código de estilo entusiasta.\n",
        "- Use `tensorflow_datasets` y `tf.data` donde sea posible.\n",
        "- Evitar `compat.v1` ."
      ]
    },
    {
      "cell_type": "markdown",
      "metadata": {
        "colab_type": "text",
        "id": "78HBT9cQXJko"
      },
      "source": [
        "### Texto\n",
        "\n",
        "- Usa un estilo imperativo. \"Ejecutar un lote de imágenes a través del modelo\".\n",
        "- Use el caso de la oración en títulos / encabezados.\n",
        "- Utilice títulos / encabezados cortos: \"Descargar los datos\", \"Construir el modelo\", \"Entrenar al modelo\".\n",
        "- Use la [guía de estilo de documentación para desarrolladores de Google](https://developers.google.com/style/highlights) ."
      ]
    },
    {
      "cell_type": "markdown",
      "metadata": {
        "colab_type": "text",
        "id": "YrsKXcPRUvK9"
      },
      "source": [
        "## Flujo de trabajo de GitHub\n",
        "\n",
        "- Sea coherente acerca de cómo guardar sus cuadernos, de lo contrario, las diferencias JSON son desordenadas.\n",
        "- Este portátil tiene el conjunto de opciones \"Omitir salida de celda de código al guardar este portátil\". GitHub se niega a los cuadernos diff con grandes diffs (imágenes en línea).\n",
        "- [ReviewNB.com](http://reviewnb.com) puede ayudar con diffs. Esto está vinculado en un comentario en una solicitud de extracción del cuaderno.\n",
        "- Use la extensión [Abrir en Colab](https://chrome.google.com/webstore/detail/open-in-colab/iogfkhleblhcpcekbiedikdehleodpjo) para abrir un cuaderno de GitHub en Colab.\n",
        "- La forma más fácil de editar un cuaderno en GitHub es abrirlo con Colab desde la rama que desea editar. Luego use Archivo -> Guardar una copia en GitHub, que lo guardará nuevamente en la rama desde la que lo abrió.\n",
        "- Para los RP es útil publicar un enlace directo de Colab en el encabezado del RP: https://colab.research.google.com/github/{USER}/{REPO}/blob/{BRANCH}/{PATH}.ipynb"
      ]
    }
  ],
  "metadata": {
    "colab": {
      "collapsed_sections": [
        "Tce3stUlHN0L"
      ],
      "name": "file_f8e9bbb3-382e-4344-80fd-77fe6cd8d549.ipynb",
      "private_outputs": true,
      "provenance": [],
      "toc_visible": true
    },
    "kernelspec": {
      "display_name": "Python 3",
      "name": "python3"
    }
  },
  "nbformat": 4,
  "nbformat_minor": 0
}
