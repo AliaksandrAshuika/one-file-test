{
  "cells": [
    {
      "cell_type": "markdown",
      "metadata": {
        "colab_type": "text",
        "id": "Jxv6goXm7oGF"
      },
      "source": [
        "##### Copyright 2018 The Autores de TensorFlow.\n",
        "\n",
        "Licenciado bajo la Licencia Apache, Versión 2.0 (la \"Licencia\");"
      ]
    },
    {
      "cell_type": "code",
      "execution_count": 0,
      "metadata": {
        "cellView": "form",
        "colab": {
        },
        "colab_type": "code",
        "id": "llMNufAK7nfK"
      },
      "outputs": [

      ],
      "source": [
        "#@title Licensed under the Apache License, Version 2.0 (the \"License\"); { display-mode: \"form\" }\n",
        "# you may not use this file except in compliance with the License.\n",
        "# You may obtain a copy of the License at\n",
        "#\n",
        "# https://www.apache.org/licenses/LICENSE-2.0\n",
        "#\n",
        "# Unless required by applicable law or agreed to in writing, software\n",
        "# distributed under the License is distributed on an \"AS IS\" BASIS,\n",
        "# WITHOUT WARRANTIES OR CONDITIONS OF ANY KIND, either express or implied.\n",
        "# See the License for the specific language governing permissions and\n",
        "# limitations under the License."
      ]
    },
    {
      "cell_type": "markdown",
      "metadata": {
        "colab_type": "text",
        "id": "8Byow2J6LaPl"
      },
      "source": [
        "# Mejor rendimiento con tf.function y AutoGraph"
      ]
    },
    {
      "cell_type": "markdown",
      "metadata": {
        "colab_type": "text",
        "id": "kGXS3UWBBNoc"
      },
      "source": [
        "<table class=\"tfo-notebook-buttons\" align=\"left\">\n",
        "  <td>\n",
        "    <p data-md-type=\"paragraph\"><a target=\"_blank\" href=\"https://www.tensorflow.org/guide/function\"><img src=\"https://www.tensorflow.org/images/tf_logo_32px.png\"> Ver en TensorFlow.org</a></p>\n",
        "  </td>\n",
        "  <td>\n",
        "    <p data-md-type=\"paragraph\"><a target=\"_blank\" href=\"https://colab.research.google.com/github/tensorflow/docs/blob/master/site/en/guide/function.ipynb\"><img src=\"https://www.tensorflow.org/images/colab_logo_32px.png\"> Ejecutar en Google Colab</a></p>\n",
        "  </td>\n",
        "  <td>\n",
        "    <p data-md-type=\"paragraph\"><a target=\"_blank\" href=\"https://github.com/tensorflow/docs/blob/master/site/en/guide/function.ipynb\"><img src=\"https://www.tensorflow.org/images/GitHub-Mark-32px.png\"> Ver código fuente en GitHub</a></p>\n",
        "  </td>\n",
        "  <td>\n",
        "    <p data-md-type=\"paragraph\"><a href=\"https://storage.googleapis.com/tensorflow_docs/docs/site/en/guide/function.ipynb\"><img src=\"https://www.tensorflow.org/images/download_logo_32px.png\"> Descargar cuaderno</a></p>\n",
        "  </td>\n",
        "</table>"
      ]
    },
    {
      "cell_type": "markdown",
      "metadata": {
        "colab_type": "text",
        "id": "CydFK2CL7ZHA"
      },
      "source": [
        "TF 2.0 reúne la facilidad de ejecución ansiosa y el poder de TF 1.0. En el centro de esta fusión se encuentra `tf.function` , que le permite transformar un subconjunto de sintaxis de Python en gráficos portátiles TensorFlow de alto rendimiento.\n",
        "\n",
        "Una característica nueva y genial de `tf.function` es AutoGraph, que le permite escribir código gráfico utilizando la sintaxis natural de Python. Para obtener una lista de las características de Python que puede usar con AutoGraph, consulte [Capacidades y limitaciones de AutoGraph](https://github.com/tensorflow/tensorflow/blob/master/tensorflow/python/autograph/g3doc/reference/limitations.md) . Para obtener más detalles sobre `tf.function` , consulte RFC [TF 2.0: funciones, no sesiones](https://github.com/tensorflow/community/blob/master/rfcs/20180918-functions-not-sessions-20.md) . Para obtener más detalles sobre AutoGraph, consulte `tf.autograph` .\n",
        "\n",
        "Este tutorial lo guiará a través de las características básicas de `tf.function` y AutoGraph."
      ]
    },
    {
      "cell_type": "markdown",
      "metadata": {
        "colab_type": "text",
        "id": "n4EKOpw9mObL"
      },
      "source": [
        "## Preparar\n",
        "\n",
        "Importar TensorFlow 2.0:"
      ]
    },
    {
      "cell_type": "code",
      "execution_count": 0,
      "metadata": {
        "colab": {
        },
        "colab_type": "code",
        "id": "V9oECvVSI1Kj"
      },
      "outputs": [

      ],
      "source": [
        "import numpy as np"
      ]
    },
    {
      "cell_type": "code",
      "execution_count": 0,
      "metadata": {
        "colab": {
        },
        "colab_type": "code",
        "id": "mT7meGqrZTz9"
      },
      "outputs": [

      ],
      "source": [
        "import tensorflow as tf"
      ]
    },
    {
      "cell_type": "markdown",
      "metadata": {
        "colab_type": "text",
        "id": "77AsVr1GGtBP"
      },
      "source": [
        "## El decorador `tf.function`\n",
        "\n",
        "Cuando anota una función con `tf.function` , aún puede llamarla como cualquier otra función. Pero se compilará en un gráfico, lo que significa que obtendrá los beneficios de una ejecución más rápida, ejecutando en GPU o TPU, o exportando a SavedModel."
      ]
    },
    {
      "cell_type": "code",
      "execution_count": 0,
      "metadata": {
        "colab": {
        },
        "colab_type": "code",
        "id": "FhIg7-z6HNWj"
      },
      "outputs": [

      ],
      "source": [
        "@tf.function\n",
        "def simple_nn_layer(x, y):\n",
        "  return tf.nn.relu(tf.matmul(x, y))\n",
        "\n",
        "\n",
        "x = tf.random.uniform((3, 3))\n",
        "y = tf.random.uniform((3, 3))\n",
        "\n",
        "simple_nn_layer(x, y)"
      ]
    },
    {
      "cell_type": "markdown",
      "metadata": {
        "colab_type": "text",
        "id": "U-LAE4pMNR9g"
      },
      "source": [
        "Si examinamos el resultado de la anotación, podemos ver que es un llamado especial que maneja todas las interacciones con el tiempo de ejecución de TensorFlow."
      ]
    },
    {
      "cell_type": "code",
      "execution_count": 0,
      "metadata": {
        "colab": {
        },
        "colab_type": "code",
        "id": "q4t2iuS7Nqc0"
      },
      "outputs": [

      ],
      "source": [
        "simple_nn_layer"
      ]
    },
    {
      "cell_type": "markdown",
      "metadata": {
        "colab_type": "text",
        "id": "DqeefLGNXjZQ"
      },
      "source": [
        "Si su código usa múltiples funciones, no necesita anotarlas todas: cualquier función llamada desde una función anotada también se ejecutará en modo gráfico."
      ]
    },
    {
      "cell_type": "code",
      "execution_count": 0,
      "metadata": {
        "colab": {
        },
        "colab_type": "code",
        "id": "3VGF7tlVXiZY"
      },
      "outputs": [

      ],
      "source": [
        "def linear_layer(x):\n",
        "  return 2 * x + 1\n",
        "\n",
        "\n",
        "@tf.function\n",
        "def deep_net(x):\n",
        "  return tf.nn.relu(linear_layer(x))\n",
        "\n",
        "\n",
        "deep_net(tf.constant((1, 2, 3)))"
      ]
    },
    {
      "cell_type": "markdown",
      "metadata": {
        "colab_type": "text",
        "id": "yQvg6ZSKWyqE"
      },
      "source": [
        "Las funciones pueden ser más rápidas que el código entusiasta, para gráficos con muchas operaciones pequeñas. Pero para los gráficos con algunas operaciones costosas (como convoluciones), es posible que no vea mucha aceleración."
      ]
    },
    {
      "cell_type": "code",
      "execution_count": 0,
      "metadata": {
        "colab": {
        },
        "colab_type": "code",
        "id": "0EL6lVwEWuFo"
      },
      "outputs": [

      ],
      "source": [
        "import timeit\n",
        "conv_layer = tf.keras.layers.Conv2D(100, 3)\n",
        "\n",
        "@tf.function\n",
        "def conv_fn(image):\n",
        "  return conv_layer(image)\n",
        "\n",
        "image = tf.zeros([1, 200, 200, 100])\n",
        "# warm up\n",
        "conv_layer(image); conv_fn(image)\n",
        "print(\"Eager conv:\", timeit.timeit(lambda: conv_layer(image), number=10))\n",
        "print(\"Function conv:\", timeit.timeit(lambda: conv_fn(image), number=10))\n",
        "print(\"Note how there's not much difference in performance for convolutions\")\n"
      ]
    },
    {
      "cell_type": "code",
      "execution_count": 0,
      "metadata": {
        "colab": {
        },
        "colab_type": "code",
        "id": "L4zj-jpH0jKH"
      },
      "outputs": [

      ],
      "source": [
        "lstm_cell = tf.keras.layers.LSTMCell(10)\n",
        "\n",
        "@tf.function\n",
        "def lstm_fn(input, state):\n",
        "  return lstm_cell(input, state)\n",
        "\n",
        "input = tf.zeros([10, 10])\n",
        "state = [tf.zeros([10, 10])] * 2\n",
        "# warm up\n",
        "lstm_cell(input, state); lstm_fn(input, state)\n",
        "print(\"eager lstm:\", timeit.timeit(lambda: lstm_cell(input, state), number=10))\n",
        "print(\"function lstm:\", timeit.timeit(lambda: lstm_fn(input, state), number=10))\n"
      ]
    },
    {
      "cell_type": "markdown",
      "metadata": {
        "colab_type": "text",
        "id": "ohbSnA79mcJV"
      },
      "source": [
        "## Usar flujo de control de Python\n",
        "\n",
        "Al usar el flujo de control dependiente de datos dentro de `tf.function` , puede usar las declaraciones de flujo de control de Python y AutoGraph las convertirá en operaciones apropiadas de TensorFlow. Por ejemplo, `if` declaraciones se convertirán en `tf.cond()` si dependen de un `Tensor` .\n",
        "\n",
        "En el siguiente ejemplo, `x` es un `Tensor` pero la instrucción `if` funciona como se esperaba:"
      ]
    },
    {
      "cell_type": "code",
      "execution_count": 0,
      "metadata": {
        "colab": {
        },
        "colab_type": "code",
        "id": "aA3gOodCBkOw"
      },
      "outputs": [

      ],
      "source": [
        "@tf.function\n",
        "def square_if_positive(x):\n",
        "  if x > 0:\n",
        "    x = x * x\n",
        "  else:\n",
        "    x = 0\n",
        "  return x\n",
        "\n",
        "\n",
        "print('square_if_positive(2) = {}'.format(square_if_positive(tf.constant(2))))\n",
        "print('square_if_positive(-2) = {}'.format(square_if_positive(tf.constant(-2))))"
      ]
    },
    {
      "cell_type": "markdown",
      "metadata": {
        "colab_type": "text",
        "id": "GMiCUkdyoq98"
      },
      "source": [
        "Nota: El ejemplo anterior usa condicionales simples con valores escalares. <a href=\"#batching\">El procesamiento por lotes</a> generalmente se usa en el código del mundo real."
      ]
    },
    {
      "cell_type": "markdown",
      "metadata": {
        "colab_type": "text",
        "id": "m-jWmsCmByyw"
      },
      "source": [
        "AutoGraph admite declaraciones comunes de Python como `while` , `for` , `if` , `break` , `continue` y `return` , con soporte para anidamiento. Eso significa que puede usar expresiones `Tensor` en la condición de las declaraciones `while` y `if` , o iterar sobre un `Tensor` en un bucle `for` ."
      ]
    },
    {
      "cell_type": "code",
      "execution_count": 0,
      "metadata": {
        "colab": {
        },
        "colab_type": "code",
        "id": "toxKBOXbB1ro"
      },
      "outputs": [

      ],
      "source": [
        "@tf.function\n",
        "def sum_even(items):\n",
        "  s = 0\n",
        "  for c in items:\n",
        "    if c % 2 > 0:\n",
        "      continue\n",
        "    s += c\n",
        "  return s\n",
        "\n",
        "\n",
        "sum_even(tf.constant([10, 12, 15, 20]))"
      ]
    },
    {
      "cell_type": "markdown",
      "metadata": {
        "colab_type": "text",
        "id": "AtDaLrbySw4j"
      },
      "source": [
        "AutoGraph también proporciona una API de bajo nivel para usuarios avanzados. Por ejemplo, podemos usarlo para echar un vistazo al código generado."
      ]
    },
    {
      "cell_type": "code",
      "execution_count": 0,
      "metadata": {
        "colab": {
        },
        "colab_type": "code",
        "id": "aRsde3x_SjTQ"
      },
      "outputs": [

      ],
      "source": [
        "print(tf.autograph.to_code(sum_even.python_function))"
      ]
    },
    {
      "cell_type": "markdown",
      "metadata": {
        "colab_type": "text",
        "id": "rvJXCfk8VkLf"
      },
      "source": [
        "Aquí hay un ejemplo de flujo de control más complicado:"
      ]
    },
    {
      "cell_type": "code",
      "execution_count": 0,
      "metadata": {
        "colab": {
        },
        "colab_type": "code",
        "id": "h-Z87IJqVlKl"
      },
      "outputs": [

      ],
      "source": [
        "@tf.function\n",
        "def fizzbuzz(n):\n",
        "  for i in tf.range(n):\n",
        "    if i % 3 == 0:\n",
        "      tf.print('Fizz')\n",
        "    elif i % 5 == 0:\n",
        "      tf.print('Buzz')\n",
        "    else:\n",
        "      tf.print(i)\n",
        "\n",
        "fizzbuzz(tf.constant(15))"
      ]
    },
    {
      "cell_type": "markdown",
      "metadata": {
        "colab_type": "text",
        "id": "h_Y4uC1R1B55"
      },
      "source": [
        "## Keras y AutoGraph\n",
        "\n",
        "AutoGraph está disponible por defecto en los modelos Keras no dinámicos. Para obtener más información, consulte `tf.keras` ."
      ]
    },
    {
      "cell_type": "code",
      "execution_count": 0,
      "metadata": {
        "colab": {
        },
        "colab_type": "code",
        "id": "cR6mpLKP1HLe"
      },
      "outputs": [

      ],
      "source": [
        "class CustomModel(tf.keras.models.Model):\n",
        "\n",
        "  @tf.function\n",
        "  def call(self, input_data):\n",
        "    if tf.reduce_mean(input_data) > 0:\n",
        "      return input_data\n",
        "    else:\n",
        "      return input_data // 2\n",
        "\n",
        "\n",
        "model = CustomModel()\n",
        "\n",
        "model(tf.constant([-2, -4]))"
      ]
    },
    {
      "cell_type": "markdown",
      "metadata": {
        "colab_type": "text",
        "id": "NTEvpBK9f8kj"
      },
      "source": [
        "## Efectos secundarios\n",
        "\n",
        "Al igual que en el modo ansioso, puede usar operaciones con efectos secundarios, como `tf.assign` o `tf.print` normalmente dentro de `tf.function` , e insertará las dependencias de control necesarias para garantizar que se ejecuten en orden."
      ]
    },
    {
      "cell_type": "code",
      "execution_count": 0,
      "metadata": {
        "colab": {
        },
        "colab_type": "code",
        "id": "-Wd6i8S9gcuC"
      },
      "outputs": [

      ],
      "source": [
        "v = tf.Variable(5)\n",
        "\n",
        "@tf.function\n",
        "def find_next_odd():\n",
        "  v.assign(v + 1)\n",
        "  if v % 2 == 0:\n",
        "    v.assign(v + 1)\n",
        "\n",
        "\n",
        "find_next_odd()\n",
        "v"
      ]
    },
    {
      "cell_type": "markdown",
      "metadata": {
        "colab_type": "text",
        "id": "4LfnJjm0Bm0B"
      },
      "source": [
        "<a id=\"debugging\"></a>\n",
        "\n",
        "## Depuración\n",
        "\n",
        "`tf.function` y AutoGraph funcionan generando código y trazándolo en gráficos TensorFlow. Este mecanismo aún no admite depuradores paso a paso como `pdb` . Sin embargo, puede llamar a `tf.config.experimental_run_functions_eagerly(True)` para habilitar temporalmente la ejecución ansiosa dentro de la `tf.function 'y usar su depurador favorito:"
      ]
    },
    {
      "cell_type": "code",
      "execution_count": 0,
      "metadata": {
        "colab": {
        },
        "colab_type": "code",
        "id": "Yci8ve6hmgpF"
      },
      "outputs": [

      ],
      "source": [
        "@tf.function\n",
        "def f(x):\n",
        "  if x > 0:\n",
        "    # Try setting a breakpoint here!\n",
        "    # Example:\n",
        "    #   import pdb\n",
        "    #   pdb.set_trace()\n",
        "    x = x + 1\n",
        "  return x\n",
        "\n",
        "tf.config.experimental_run_functions_eagerly(True)\n",
        "\n",
        "# You can now set breakpoints and run the code in a debugger.\n",
        "f(tf.constant(1))\n",
        "\n",
        "tf.config.experimental_run_functions_eagerly(False)"
      ]
    },
    {
      "cell_type": "markdown",
      "metadata": {
        "colab_type": "text",
        "id": "NfpIQUv28Ht4"
      },
      "source": [
        "## Ejemplo avanzado: un ciclo de entrenamiento en el gráfico\n",
        "\n",
        "La sección anterior mostró que AutoGraph se puede usar dentro de las capas y modelos de Keras. Los modelos Keras también se pueden usar en código AutoGraph.\n",
        "\n",
        "Este ejemplo muestra cómo entrenar un modelo Keras simple en MNIST con todo el proceso de entrenamiento (carga de lotes, cálculo de gradientes, actualización de parámetros, cálculo de precisión de validación y repetición hasta la convergencia) se realiza en el gráfico."
      ]
    },
    {
      "cell_type": "markdown",
      "metadata": {
        "colab_type": "text",
        "id": "Em5dzSUOtLRP"
      },
      "source": [
        "### Descargar datos"
      ]
    },
    {
      "cell_type": "code",
      "execution_count": 0,
      "metadata": {
        "colab": {
        },
        "colab_type": "code",
        "id": "xqoxumv0ssQW"
      },
      "outputs": [

      ],
      "source": [
        "def prepare_mnist_features_and_labels(x, y):\n",
        "  x = tf.cast(x, tf.float32) / 255.0\n",
        "  y = tf.cast(y, tf.int64)\n",
        "  return x, y\n",
        "\n",
        "def mnist_dataset():\n",
        "  (x, y), _ = tf.keras.datasets.mnist.load_data()\n",
        "  ds = tf.data.Dataset.from_tensor_slices((x, y))\n",
        "  ds = ds.map(prepare_mnist_features_and_labels)\n",
        "  ds = ds.take(20000).shuffle(20000).batch(100)\n",
        "  return ds\n",
        "\n",
        "train_dataset = mnist_dataset()"
      ]
    },
    {
      "cell_type": "markdown",
      "metadata": {
        "colab_type": "text",
        "id": "znmy4l8ntMvW"
      },
      "source": [
        "### Define el modelo"
      ]
    },
    {
      "cell_type": "code",
      "execution_count": 0,
      "metadata": {
        "colab": {
        },
        "colab_type": "code",
        "id": "ltxyJVWTqNAO"
      },
      "outputs": [

      ],
      "source": [
        "model = tf.keras.Sequential((\n",
        "    tf.keras.layers.Reshape(target_shape=(28 * 28,), input_shape=(28, 28)),\n",
        "    tf.keras.layers.Dense(100, activation='relu'),\n",
        "    tf.keras.layers.Dense(100, activation='relu'),\n",
        "    tf.keras.layers.Dense(10)))\n",
        "model.build()\n",
        "optimizer = tf.keras.optimizers.Adam()"
      ]
    },
    {
      "cell_type": "markdown",
      "metadata": {
        "colab_type": "text",
        "id": "oeYV6mKnJGMr"
      },
      "source": [
        "### Definir el ciclo de entrenamiento."
      ]
    },
    {
      "cell_type": "code",
      "execution_count": 0,
      "metadata": {
        "colab": {
        },
        "colab_type": "code",
        "id": "3xtg_MMhJETd"
      },
      "outputs": [

      ],
      "source": [
        "compute_loss = tf.keras.losses.SparseCategoricalCrossentropy(from_logits=True)\n",
        "\n",
        "compute_accuracy = tf.keras.metrics.SparseCategoricalAccuracy()\n",
        "\n",
        "\n",
        "def train_one_step(model, optimizer, x, y):\n",
        "  with tf.GradientTape() as tape:\n",
        "    logits = model(x)\n",
        "    loss = compute_loss(y, logits)\n",
        "\n",
        "  grads = tape.gradient(loss, model.trainable_variables)\n",
        "  optimizer.apply_gradients(zip(grads, model.trainable_variables))\n",
        "\n",
        "  compute_accuracy(y, logits)\n",
        "  return loss\n",
        "\n",
        "\n",
        "@tf.function\n",
        "def train(model, optimizer):\n",
        "  train_ds = mnist_dataset()\n",
        "  step = 0\n",
        "  loss = 0.0\n",
        "  accuracy = 0.0\n",
        "  for x, y in train_ds:\n",
        "    step += 1\n",
        "    loss = train_one_step(model, optimizer, x, y)\n",
        "    if step % 10 == 0:\n",
        "      tf.print('Step', step, ': loss', loss, '; accuracy', compute_accuracy.result())\n",
        "  return step, loss, accuracy\n",
        "\n",
        "step, loss, accuracy = train(model, optimizer)\n",
        "print('Final step', step, ': loss', loss, '; accuracy', compute_accuracy.result())"
      ]
    },
    {
      "cell_type": "markdown",
      "metadata": {
        "colab_type": "text",
        "id": "SnsumiP6eRYL"
      },
      "source": [
        "## Procesamiento por lotes\n",
        "\n",
        "En aplicaciones reales, el procesamiento por lotes es esencial para el rendimiento. El mejor código para convertir a AutoGraph es el código donde el flujo de control se decide a nivel de *lote* . Si toma decisiones a nivel de *ejemplo* individual, intente utilizar API por lotes para mantener el rendimiento.\n",
        "\n",
        "Por ejemplo, si tiene el siguiente código en Python:"
      ]
    },
    {
      "cell_type": "code",
      "execution_count": 0,
      "metadata": {
        "colab": {
        },
        "colab_type": "code",
        "id": "t31QoERiNccJ"
      },
      "outputs": [

      ],
      "source": [
        "def square_if_positive(x):\n",
        "  return [i ** 2 if i > 0 else i for i in x]\n",
        "\n",
        "\n",
        "square_if_positive(range(-5, 5))"
      ]
    },
    {
      "cell_type": "markdown",
      "metadata": {
        "colab_type": "text",
        "id": "kSeEJ76uNgwD"
      },
      "source": [
        "Puede sentirse tentado a escribirlo en TensorFlow como tal (¡y esto funcionaría!):"
      ]
    },
    {
      "cell_type": "code",
      "execution_count": 0,
      "metadata": {
        "colab": {
        },
        "colab_type": "code",
        "id": "RqR8WzSzNf87"
      },
      "outputs": [

      ],
      "source": [
        "@tf.function\n",
        "def square_if_positive_naive(x):\n",
        "  result = tf.TensorArray(tf.int32, size=x.shape[0])\n",
        "  for i in tf.range(x.shape[0]):\n",
        "    if x[i] > 0:\n",
        "      result = result.write(i, x[i] ** 2)\n",
        "    else:\n",
        "      result = result.write(i, x[i])\n",
        "  return result.stack()\n",
        "\n",
        "\n",
        "square_if_positive_naive(tf.range(-5, 5))"
      ]
    },
    {
      "cell_type": "markdown",
      "metadata": {
        "colab_type": "text",
        "id": "gTcyWXVGN3gS"
      },
      "source": [
        "Pero en este caso, resulta que puedes escribir lo siguiente:"
      ]
    },
    {
      "cell_type": "code",
      "execution_count": 0,
      "metadata": {
        "colab": {
        },
        "colab_type": "code",
        "id": "VO2f6x-lNfVj"
      },
      "outputs": [

      ],
      "source": [
        "def square_if_positive_vectorized(x):\n",
        "  return tf.where(x > 0, x ** 2, x)\n",
        "\n",
        "\n",
        "square_if_positive_vectorized(tf.range(-5, 5))"
      ]
    },
    {
      "cell_type": "markdown",
      "metadata": {
        "colab_type": "text",
        "id": "EXFVx-cJ57_F"
      },
      "source": [
        "## Re-rastreo\n",
        "\n",
        "Puntos clave:\n",
        "\n",
        "- Tenga cuidado al llamar a funciones con argumentos no tensoriales o con argumentos que cambian de forma.\n",
        "- Decore funciones a nivel de módulo y métodos de clases a nivel de módulo, y evite decorar funciones o métodos locales.\n",
        "\n",
        "`tf.function` puede darle una aceleración significativa sobre la ejecución ansiosa, a costa de una ejecución más lenta por primera vez. Esto se debe a que cuando se ejecuta por primera vez, la función también se *rastrea* en un gráfico TensorFlow. La construcción y optimización de un gráfico suele ser mucho más lenta en comparación con la ejecución real:"
      ]
    },
    {
      "cell_type": "code",
      "execution_count": 0,
      "metadata": {
        "colab": {
        },
        "colab_type": "code",
        "id": "iahT-4wT6vlA"
      },
      "outputs": [

      ],
      "source": [
        "import timeit\n",
        "\n",
        "\n",
        "@tf.function\n",
        "def f(x, y):\n",
        "  return tf.matmul(x, y)\n",
        "\n",
        "print(\n",
        "    \"First invocation:\",\n",
        "    timeit.timeit(lambda: f(tf.ones((10, 10)), tf.ones((10, 10))), number=1))\n",
        "\n",
        "print(\n",
        "    \"Second invocation:\",\n",
        "    timeit.timeit(lambda: f(tf.ones((10, 10)), tf.ones((10, 10))), number=1))"
      ]
    },
    {
      "cell_type": "markdown",
      "metadata": {
        "colab_type": "text",
        "id": "q0Wojo2Z7hKg"
      },
      "source": [
        "Puede saber fácilmente cuándo se rastrea una función agregando una declaración de `print` en la parte superior de la función. Debido a que cualquier código de Python solo se ejecuta en tiempo de rastreo, solo verá el resultado de `print` cuando se rastrea la función:"
      ]
    },
    {
      "cell_type": "code",
      "execution_count": 0,
      "metadata": {
        "colab": {
        },
        "colab_type": "code",
        "id": "2IHE7-jT7gZs"
      },
      "outputs": [

      ],
      "source": [
        "@tf.function\n",
        "def f():\n",
        "  print('Tracing!')\n",
        "  tf.print('Executing')\n",
        "\n",
        "print('First invocation:')\n",
        "f()\n",
        "\n",
        "print('Second invocation:')\n",
        "f()"
      ]
    },
    {
      "cell_type": "markdown",
      "metadata": {
        "colab_type": "text",
        "id": "J2VBoQC58PdU"
      },
      "source": [
        "`tf.function` también puede *volver a rastrearse* cuando se llama con diferentes argumentos no tensoriales:"
      ]
    },
    {
      "cell_type": "code",
      "execution_count": 0,
      "metadata": {
        "colab": {
        },
        "colab_type": "code",
        "id": "-c6VUwrz808l"
      },
      "outputs": [

      ],
      "source": [
        "@tf.function\n",
        "def f(n):\n",
        "  print(n, 'Tracing!')\n",
        "  tf.print(n, 'Executing')\n",
        "\n",
        "f(1)\n",
        "f(1)\n",
        "\n",
        "f(2)\n",
        "f(2)"
      ]
    },
    {
      "cell_type": "markdown",
      "metadata": {
        "colab_type": "text",
        "id": "aKOrjBLCE8cy"
      },
      "source": [
        "Una *nueva traza* también puede ocurrir cuando los argumentos del tensor cambian de forma, a menos que haya especificado una `input_signature` :"
      ]
    },
    {
      "cell_type": "code",
      "execution_count": 0,
      "metadata": {
        "colab": {
        },
        "colab_type": "code",
        "id": "txhtkn0rE8dH"
      },
      "outputs": [

      ],
      "source": [
        "@tf.function\n",
        "def f(x):\n",
        "  print(x.shape, 'Tracing!')\n",
        "  tf.print(x, 'Executing')\n",
        "\n",
        "f(tf.constant([1]))\n",
        "f(tf.constant([2]))\n",
        "\n",
        "f(tf.constant([1, 2]))\n",
        "f(tf.constant([3, 4]))"
      ]
    },
    {
      "cell_type": "markdown",
      "metadata": {
        "colab_type": "text",
        "id": "sdN40ZqT9XaG"
      },
      "source": [
        "Además, tf.function siempre crea una nueva función gráfica con su propio conjunto de trazas cada vez que se llama:"
      ]
    },
    {
      "cell_type": "code",
      "execution_count": 0,
      "metadata": {
        "colab": {
        },
        "colab_type": "code",
        "id": "GT1iBa5i9enE"
      },
      "outputs": [

      ],
      "source": [
        "def f():\n",
        "  print('Tracing!')\n",
        "  tf.print('Executing')\n",
        "\n",
        "tf.function(f)()\n",
        "tf.function(f)()"
      ]
    },
    {
      "cell_type": "markdown",
      "metadata": {
        "colab_type": "text",
        "id": "n7_JDzFK9nnC"
      },
      "source": [
        "Esto puede conducir a un comportamiento sorprendente cuando se usa el decorador `@tf.function` en una función anidada:"
      ]
    },
    {
      "cell_type": "code",
      "execution_count": 0,
      "metadata": {
        "colab": {
        },
        "colab_type": "code",
        "id": "P3pBG7Uf9u4g"
      },
      "outputs": [

      ],
      "source": [
        "def outer():\n",
        "  @tf.function\n",
        "  def f():\n",
        "    print('Tracing!')\n",
        "    tf.print('Executing')\n",
        "  f()\n",
        "\n",
        "outer()\n",
        "outer()"
      ]
    }
  ],
  "metadata": {
    "colab": {
      "collapsed_sections": [
        "Jxv6goXm7oGF"
      ],
      "name": "function.ipynb",
      "private_outputs": true,
      "provenance": [

      ],
      "toc_visible": true
    },
    "kernelspec": {
      "display_name": "Python 3",
      "name": "python3"
    }
  },
  "nbformat": 4,
  "nbformat_minor": 0
}
