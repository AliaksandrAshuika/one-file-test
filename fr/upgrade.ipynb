{
  "cells": [
    {
      "cell_type": "markdown",
      "metadata": {
        "colab_type": "text",
        "id": "6bYaCABobL5q"
      },
      "source": [
        "##### Copyright 2018 Les auteurs TensorFlow."
      ]
    },
    {
      "cell_type": "code",
      "execution_count": 0,
      "metadata": {
        "cellView": "form",
        "colab": {
        },
        "colab_type": "code",
        "id": "FlUw7tSKbtg4"
      },
      "outputs": [

      ],
      "source": [
        "#@title Licensed under the Apache License, Version 2.0 (the \"License\");\n",
        "# you may not use this file except in compliance with the License.\n",
        "# You may obtain a copy of the License at\n",
        "#\n",
        "# https://www.apache.org/licenses/LICENSE-2.0\n",
        "#\n",
        "# Unless required by applicable law or agreed to in writing, software\n",
        "# distributed under the License is distributed on an \"AS IS\" BASIS,\n",
        "# WITHOUT WARRANTIES OR CONDITIONS OF ANY KIND, either express or implied.\n",
        "# See the License for the specific language governing permissions and\n",
        "# limitations under the License."
      ]
    },
    {
      "cell_type": "markdown",
      "metadata": {
        "colab_type": "text",
        "id": "08OTcmxgqkc2"
      },
      "source": [
        "# Mettre à niveau automatiquement le code vers TensorFlow 2\n",
        "\n",
        "<table class=\"tfo-notebook-buttons\" align=\"left\">\n",
        "  <td><a target=\"_blank\" href=\"https://www.tensorflow.org/guide/upgrade\"><img src=\"https://www.tensorflow.org/images/tf_logo_32px.png\"> Voir sur TensorFlow.org</a></td>\n",
        "  <td><a target=\"_blank\" href=\"https://colab.research.google.com/github/tensorflow/docs/blob/master/site/en/guide/upgrade.ipynb\"><img src=\"https://www.tensorflow.org/images/colab_logo_32px.png\"> Exécuter dans Google Colab</a></td>\n",
        "  <td><a target=\"_blank\" href=\"https://github.com/tensorflow/docs/blob/master/site/en/guide/upgrade.ipynb\"><img src=\"https://www.tensorflow.org/images/GitHub-Mark-32px.png\"> Voir la source sur GitHub</a></td>\n",
        "  <td><a target=\"_blank\" href=\"https://storage.googleapis.com/tensorflow_docs/docs/site/en/guide/upgrade.ipynb\"><img src=\"https://www.tensorflow.org/images/download_logo_32px.png\"> Télécharger le cahier</a></td>\n",
        "</table>\n"
      ]
    },
    {
      "cell_type": "markdown",
      "metadata": {
        "colab_type": "text",
        "id": "hZSaRPoybOp5"
      },
      "source": [
        "TensorFlow 2.0 inclut de nombreuses modifications d'API, telles que la réorganisation des arguments, le changement de nom des symboles et la modification des valeurs par défaut des paramètres. Effectuer manuellement toutes ces modifications serait fastidieux et sujet à erreur. Pour rationaliser les modifications et rendre votre transition vers TF 2.0 aussi transparente que possible, l'équipe TensorFlow a créé l'utilitaire `tf_upgrade_v2` pour faciliter la transition du code hérité vers la nouvelle API.\n",
        "\n",
        "Remarque: `tf_upgrade_v2` est installé automatiquement pour TensorFlow 1.13 et versions ultérieures (y compris toutes les versions de TF 2.0).\n",
        "\n",
        "L'utilisation typique est comme ceci:\n",
        "\n",
        "<pre class=\"devsite-terminal devsite-click-to-copy prettyprint lang-bsh\">tf_upgrade_v2 \\<br>--intree mon_projet / \\<br>--outtree my_project_v2 / \\<br>--reportfile report.txt<br></pre>\n",
        "\n",
        "Il accélérera votre processus de mise à niveau en convertissant les scripts Python TensorFlow 1.x existants en TensorFlow 2.0.\n",
        "\n",
        "Le script de conversion automatise autant que possible, mais il existe toujours des modifications syntaxiques et stylistiques qui ne peuvent pas être effectuées par le script."
      ]
    },
    {
      "cell_type": "markdown",
      "metadata": {
        "colab_type": "text",
        "id": "gP9v2vgptdfi"
      },
      "source": [
        "## Modules de compatibilité\n",
        "\n",
        "Certains symboles API ne peuvent pas être mis à niveau simplement en utilisant un remplacement de chaîne. Pour vous assurer que votre code est toujours pris en charge dans TensorFlow 2.0, le script de mise à niveau comprend un module `compat.v1` . Ce module remplace les symboles TF 1.x comme `tf.foo` par la référence équivalente `tf.compat.v1.foo` . Bien que le module de compatibilité soit agréable, nous vous recommandons de relire manuellement les remplacements et de les migrer vers de nouvelles API dans l'espace de noms `tf.*` lieu de l'espace de noms `tf.compat.v1` aussi rapidement que possible.\n",
        "\n",
        "En raison des obsolescences du module TensorFlow 2.x (par exemple, `tf.flags` et `tf.contrib` ), certaines modifications ne peuvent pas être contournées en passant à `compat.v1` . La mise à niveau de ce code peut nécessiter l'utilisation d'une bibliothèque supplémentaire (par exemple, [`absl.flags`](https://github.com/abseil/abseil-py) ) ou le passage à un package dans [tensorflow / addons](http://www.github.com/tensorflow/addons) .\n"
      ]
    },
    {
      "cell_type": "markdown",
      "metadata": {
        "colab_type": "text",
        "id": "s78bbfjkXYb7"
      },
      "source": [
        "## Processus de mise à niveau recommandé\n",
        "\n",
        "Le reste de ce guide montre comment utiliser le script de mise à niveau. Bien que le script de mise à niveau soit facile à utiliser, il est fortement recommandé d'utiliser le script dans le cadre du processus suivant:\n",
        "\n",
        "1. **Test unitaire** : assurez-vous que le code que vous mettez à niveau dispose d'une suite de tests unitaires avec une couverture raisonnable. Ceci est du code Python, donc le langage ne vous protégera pas de nombreuses classes d'erreurs. Assurez-vous également que toute dépendance dont vous disposez a déjà été mise à niveau pour être compatible avec TensorFlow 2.0.\n",
        "\n",
        "2. **Installez TensorFlow 1.14** : mettez à niveau votre TensorFlow vers la dernière version de TensorFlow 1.x, au moins 1.14. Cela inclut l'API TensorFlow 2.0 finale dans `tf.compat.v2` .\n",
        "\n",
        "3. **Test With 1.14**: Ensure your unit tests pass at this point. You’ll be running them repeatedly as you upgrade so starting from green is important.\n",
        "\n",
        "4. **Run the upgrade script**: Run `tf_upgrade_v2` on your entire source tree, tests included. This will upgrade your code to a format where it only uses symbols available in TensorFlow 2.0. Deprecated symbols will be accessed with `tf.compat.v1`. These will eventually require manual attention, but not immediately.\n",
        "\n",
        "5. **Exécutez les tests convertis avec TensorFlow 1.14** : votre code devrait toujours fonctionner correctement dans TensorFlow 1.14. Exécutez à nouveau vos tests unitaires. Toute erreur dans vos tests signifie qu'il y a un bogue dans le script de mise à niveau. [Faites-le nous savoir](https://github.com/tensorflow/tensorflow/issues) .\n",
        "\n",
        "6. **Recherchez des avertissements et des erreurs dans le rapport de mise à niveau** : le script écrit un fichier de rapport qui explique toutes les conversions que vous devez revérifier ou toute action manuelle que vous devez effectuer. Par exemple: toutes les instances restantes de contrib nécessiteront une action manuelle pour être supprimées. Veuillez consulter [le RFC pour plus d'instructions](https://github.com/tensorflow/community/blob/master/rfcs/20180907-contrib-sunset.md) .\n",
        "\n",
        "7. **Installer TensorFlow 2.0** : à ce stade, il devrait être sûr de passer à TensorFlow 2.0\n",
        "\n",
        "8. **Test with `v1.disable_v2_behavior`**: Re-running your tests with al `v1.disable_v2_behavior()` in the tests main function should give the same results as running under 1.14.\n",
        "\n",
        "9. **Activer le comportement V2** : Maintenant que vos tests fonctionnent à l'aide de l'API v2, vous pouvez commencer à envisager d'activer le comportement v2. Selon la façon dont votre code est écrit, cela peut nécessiter certaines modifications. Voir le [guide de migration](migrate.ipynb) pour plus de détails."
      ]
    },
    {
      "cell_type": "markdown",
      "metadata": {
        "colab_type": "text",
        "id": "6pwSAQEwvscP"
      },
      "source": [
        "## Utilisation du script de mise à niveau\n"
      ]
    },
    {
      "cell_type": "markdown",
      "metadata": {
        "colab_type": "text",
        "id": "I9NCvDt5GwX4"
      },
      "source": [
        "### Installer\n",
        "\n",
        "Avant de commencer, assurez-vous que TensorlFlow 2.0 est installé."
      ]
    },
    {
      "cell_type": "code",
      "execution_count": 0,
      "metadata": {
        "colab": {
        },
        "colab_type": "code",
        "id": "DWVYbvi1WCeY"
      },
      "outputs": [

      ],
      "source": [
        "import tensorflow as tf\n",
        "\n",
        "print(tf.__version__)"
      ]
    },
    {
      "cell_type": "markdown",
      "metadata": {
        "colab_type": "text",
        "id": "Ycy3B5PNGutU"
      },
      "source": [
        "Clone the [tensorflow/models](https://github.com/tensorflow/models) git repository so you have some code to test on:"
      ]
    },
    {
      "cell_type": "code",
      "execution_count": 0,
      "metadata": {
        "colab": {
        },
        "colab_type": "code",
        "id": "jyckoWyAZEhZ"
      },
      "outputs": [

      ],
      "source": [
        "!git clone --branch r1.13.0 --depth 1 https://github.com/tensorflow/models"
      ]
    },
    {
      "cell_type": "markdown",
      "metadata": {
        "colab_type": "text",
        "id": "wfHOhbkgvrKr"
      },
      "source": [
        "### Lisez l'aide\n",
        "\n",
        "Le script doit être installé avec TensorFlow. Voici l'aide intégrée:"
      ]
    },
    {
      "cell_type": "code",
      "execution_count": 0,
      "metadata": {
        "colab": {
        },
        "colab_type": "code",
        "id": "m2GF-tlntqTQ"
      },
      "outputs": [

      ],
      "source": [
        "!tf_upgrade_v2 -h"
      ]
    },
    {
      "cell_type": "markdown",
      "metadata": {
        "colab_type": "text",
        "id": "se9Leqjm1CZR"
      },
      "source": [
        "### Exemple de code TF1"
      ]
    },
    {
      "cell_type": "markdown",
      "metadata": {
        "colab_type": "text",
        "id": "whD5i36s1SuM"
      },
      "source": [
        "Voici un simple script TensorFlow 1.0:"
      ]
    },
    {
      "cell_type": "code",
      "execution_count": 0,
      "metadata": {
        "colab": {
        },
        "colab_type": "code",
        "id": "mhGbYQ9HwbeU"
      },
      "outputs": [

      ],
      "source": [
        "!head -n 65 models/samples/cookbook/regression/custom_regression.py | tail -n 10"
      ]
    },
    {
      "cell_type": "markdown",
      "metadata": {
        "colab_type": "text",
        "id": "UGO7xSyL89wX"
      },
      "source": [
        "Avec TensorFlow 2.0 installé, il ne fonctionne pas:"
      ]
    },
    {
      "cell_type": "code",
      "execution_count": 0,
      "metadata": {
        "colab": {
        },
        "colab_type": "code",
        "id": "TD7fFphX8_qE"
      },
      "outputs": [

      ],
      "source": [
        "!(cd models/samples/cookbook/regression && python custom_regression.py)"
      ]
    },
    {
      "cell_type": "markdown",
      "metadata": {
        "colab_type": "text",
        "id": "iZZHu0H0wLRJ"
      },
      "source": [
        "### Un seul fichier\n",
        "\n",
        "Le script de mise à niveau peut être exécuté sur un seul fichier Python:"
      ]
    },
    {
      "cell_type": "code",
      "execution_count": 0,
      "metadata": {
        "attributes": {
          "classes": [
            "sh"
          ],
          "id": ""
        },
        "colab": {
        },
        "colab_type": "code",
        "id": "xIBZVEjkqkc5"
      },
      "outputs": [

      ],
      "source": [
        "!tf_upgrade_v2 \\\n",
        "  --infile models/samples/cookbook/regression/custom_regression.py \\\n",
        "  --outfile /tmp/custom_regression_v2.py"
      ]
    },
    {
      "cell_type": "markdown",
      "metadata": {
        "colab_type": "text",
        "id": "L9X2lxzqqkc9"
      },
      "source": [
        "Le script affichera des erreurs s'il ne trouve pas de correctif pour le code. "
      ]
    },
    {
      "cell_type": "markdown",
      "metadata": {
        "colab_type": "text",
        "id": "r7zpuE1vWSlL"
      },
      "source": [
        "### Arborescence de répertoires"
      ]
    },
    {
      "cell_type": "markdown",
      "metadata": {
        "colab_type": "text",
        "id": "2q7Gtuu8SdIC"
      },
      "source": [
        "Les projets typiques, y compris cet exemple simple, utiliseront beaucoup plus d'un fichier. Vous souhaitez généralement mettre à niveau un package entier, de sorte que le script peut également être exécuté sur une arborescence de répertoires:"
      ]
    },
    {
      "cell_type": "code",
      "execution_count": 0,
      "metadata": {
        "colab": {
        },
        "colab_type": "code",
        "id": "XGqcdkAPqkc-"
      },
      "outputs": [

      ],
      "source": [
        "# upgrade the .py files and copy all the other files to the outtree\n",
        "!tf_upgrade_v2 \\\n",
        "    --intree models/samples/cookbook/regression/ \\\n",
        "    --outtree regression_v2/ \\\n",
        "    --reportfile tree_report.txt"
      ]
    },
    {
      "cell_type": "markdown",
      "metadata": {
        "colab_type": "text",
        "id": "2S4j7sqbSowC"
      },
      "source": [
        "Notez le seul avertissement concernant la fonction `dataset.make_one_shot_iterator` .\n",
        "\n",
        "Maintenant, le script fonctionne avec TensorFlow 2.0:\n",
        "\n",
        "Notez qu'en raison du module `tf.compat.v1` , le script converti s'exécutera également dans TensorFlow 1.14. "
      ]
    },
    {
      "cell_type": "code",
      "execution_count": 0,
      "metadata": {
        "colab": {
        },
        "colab_type": "code",
        "id": "vh0cmW3y1tX9"
      },
      "outputs": [

      ],
      "source": [
        "!(cd regression_v2 && python custom_regression.py 2>&1) | tail"
      ]
    },
    {
      "cell_type": "markdown",
      "metadata": {
        "colab_type": "text",
        "id": "4EgZGGkdqkdC"
      },
      "source": [
        "## Rapport détaillé\n",
        "\n",
        "Le script rapporte également une liste des modifications détaillées. Dans cet exemple, il a trouvé une transformation potentiellement dangereuse et a inclus un avertissement en haut du fichier: "
      ]
    },
    {
      "cell_type": "code",
      "execution_count": 0,
      "metadata": {
        "colab": {
        },
        "colab_type": "code",
        "id": "CtHaZbVaNMGV"
      },
      "outputs": [

      ],
      "source": [
        "!head -n 20 tree_report.txt"
      ]
    },
    {
      "cell_type": "markdown",
      "metadata": {
        "colab_type": "text",
        "id": "1-UIFXP3cFSa"
      },
      "source": [
        "Notez à nouveau le seul avertissement concernant la `Dataset.make_one_shot_iterator function` ."
      ]
    },
    {
      "cell_type": "markdown",
      "metadata": {
        "colab_type": "text",
        "id": "oxQeYS1TN-jv"
      },
      "source": [
        "Dans d'autres cas, la sortie expliquera le raisonnement pour des changements non triviaux:"
      ]
    },
    {
      "cell_type": "code",
      "execution_count": 0,
      "metadata": {
        "colab": {
        },
        "colab_type": "code",
        "id": "WQs9kEvVN9th"
      },
      "outputs": [

      ],
      "source": [
        "%%writefile dropout.py\n",
        "import tensorflow as tf\n",
        "\n",
        "d = tf.nn.dropout(tf.range(10), 0.2)\n",
        "z = tf.zeros_like(d, optimize=False)"
      ]
    },
    {
      "cell_type": "code",
      "execution_count": 0,
      "metadata": {
        "colab": {
        },
        "colab_type": "code",
        "id": "7uOkacZsO3XX"
      },
      "outputs": [

      ],
      "source": [
        "!tf_upgrade_v2 \\\n",
        "  --infile dropout.py \\\n",
        "  --outfile dropout_v2.py \\\n",
        "  --reportfile dropout_report.txt > /dev/null"
      ]
    },
    {
      "cell_type": "code",
      "execution_count": 0,
      "metadata": {
        "colab": {
        },
        "colab_type": "code",
        "id": "m-J82-scPMGl"
      },
      "outputs": [

      ],
      "source": [
        "!cat dropout_report.txt"
      ]
    },
    {
      "cell_type": "markdown",
      "metadata": {
        "colab_type": "text",
        "id": "DOOLN21nTGSS"
      },
      "source": [
        "Voici le contenu du fichier modifié, notez comment le script ajoute des noms d'arguments pour gérer les arguments déplacés et renommés:"
      ]
    },
    {
      "cell_type": "code",
      "execution_count": 0,
      "metadata": {
        "colab": {
        },
        "colab_type": "code",
        "id": "SrYcJk9-TFlU"
      },
      "outputs": [

      ],
      "source": [
        "!cat dropout_v2.py"
      ]
    },
    {
      "cell_type": "markdown",
      "metadata": {
        "colab_type": "text",
        "id": "wI_sVNp_b4C4"
      },
      "source": [
        "Un projet plus important peut contenir quelques erreurs. Par exemple, convertissez le modèle deeplab:"
      ]
    },
    {
      "cell_type": "code",
      "execution_count": 0,
      "metadata": {
        "colab": {
        },
        "colab_type": "code",
        "id": "uzuY-bOvYBS7"
      },
      "outputs": [

      ],
      "source": [
        "!tf_upgrade_v2 \\\n",
        "    --intree models/research/deeplab \\\n",
        "    --outtree deeplab_v2 \\\n",
        "    --reportfile deeplab_report.txt > /dev/null"
      ]
    },
    {
      "cell_type": "markdown",
      "metadata": {
        "colab_type": "text",
        "id": "FLhw3fm8drae"
      },
      "source": [
        "Il a produit les fichiers de sortie:"
      ]
    },
    {
      "cell_type": "code",
      "execution_count": 0,
      "metadata": {
        "colab": {
        },
        "colab_type": "code",
        "id": "4YYLRxWJdSvQ"
      },
      "outputs": [

      ],
      "source": [
        "!ls deeplab_v2"
      ]
    },
    {
      "cell_type": "markdown",
      "metadata": {
        "colab_type": "text",
        "id": "qtTC-cAZdEBy"
      },
      "source": [
        "Mais il y avait des erreurs. Le rapport vous aidera à identifier ce que vous devez corriger avant que cela ne s'exécute. Voici les trois premières erreurs:"
      ]
    },
    {
      "cell_type": "code",
      "execution_count": 0,
      "metadata": {
        "colab": {
        },
        "colab_type": "code",
        "id": "UVTNOohlcyVZ"
      },
      "outputs": [

      ],
      "source": [
        "!cat deeplab_report.txt | grep -i models/research/deeplab | grep -i error | head -n 3"
      ]
    },
    {
      "cell_type": "markdown",
      "metadata": {
        "colab_type": "text",
        "id": "gGBeDaFVRJ5l"
      },
      "source": [
        "## Mode \"sécurité\""
      ]
    },
    {
      "cell_type": "markdown",
      "metadata": {
        "colab_type": "text",
        "id": "BnfCxB7SVtTO"
      },
      "source": [
        "Le script de conversion a également un mode de `SAFETY` moins invasif qui modifie simplement les importations pour utiliser le module `tensorflow.compat.v1` :"
      ]
    },
    {
      "cell_type": "code",
      "execution_count": 0,
      "metadata": {
        "colab": {
        },
        "colab_type": "code",
        "id": "XdaVXCPWQCC5"
      },
      "outputs": [

      ],
      "source": [
        "!cat dropout.py"
      ]
    },
    {
      "cell_type": "code",
      "execution_count": 0,
      "metadata": {
        "colab": {
        },
        "colab_type": "code",
        "id": "c0tvRJLGRYEb"
      },
      "outputs": [

      ],
      "source": [
        "!tf_upgrade_v2 --mode SAFETY --infile dropout.py --outfile dropout_v2_safe.py > /dev/null"
      ]
    },
    {
      "cell_type": "code",
      "execution_count": 0,
      "metadata": {
        "colab": {
        },
        "colab_type": "code",
        "id": "91suN2RaRfIV"
      },
      "outputs": [

      ],
      "source": [
        "!cat dropout_v2_safe.py"
      ]
    },
    {
      "cell_type": "markdown",
      "metadata": {
        "colab_type": "text",
        "id": "EOzTF7xbZqqW"
      },
      "source": [
        "Comme vous pouvez le voir, cela ne met pas à niveau votre code, mais permet au code TensorFlow 1 de s'exécuter dans TensorFlow 2"
      ]
    },
    {
      "cell_type": "markdown",
      "metadata": {
        "colab_type": "text",
        "id": "jGfXVApkqkdG"
      },
      "source": [
        "## Avertissements\n",
        "\n",
        "- Ne mettez pas à jour des parties de votre code manuellement avant d'exécuter ce script. En particulier, les fonctions qui ont eu des arguments réorganisés comme `tf.argmax` ou `tf.batch_to_space` entraînent l'ajout incorrect d'arguments de mots clés qui ne correspondent pas à votre code existant.\n",
        "\n",
        "- Le script suppose que `tensorflow` est importé en utilisant `import tensorflow as tf` .\n",
        "\n",
        "- Ce script ne réorganise pas les arguments. Au lieu de cela, le script ajoute des arguments de mots clés aux fonctions dont les arguments ont été réorganisés.\n",
        "\n",
        "- Consultez [tf2up.ml](http://tf2up.ml) pour un outil pratique pour mettre à niveau les blocs-notes Jupyter et les fichiers Python dans un référentiel GitHub.\n",
        "\n",
        "Pour signaler des bogues de script de mise à niveau ou faire des demandes de fonctionnalités, veuillez signaler un problème sur [GitHub](https://github.com/tensorflow/tensorflow/issues) . Et si vous testez TensorFlow 2.0, nous voulons en entendre parler! Rejoignez la [communauté TF 2.0 Testing](https://groups.google.com/a/tensorflow.org/forum/#!forum/testing) et envoyez vos questions et discussions à [testing@tensorflow.org](mailto:testing@tensorflow.org) ."
      ]
    }
  ],
  "metadata": {
    "colab": {
      "collapsed_sections": [

      ],
      "name": "upgrade.ipynb",
      "private_outputs": true,
      "provenance": [

      ],
      "toc_visible": true
    },
    "kernelspec": {
      "display_name": "Python 3",
      "language": "python",
      "name": "python3"
    }
  },
  "nbformat": 4,
  "nbformat_minor": 0
}
