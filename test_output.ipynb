{
  "nbformat": 4,
  "nbformat_minor": 0,
  "metadata": {
    "colab": {
      "name": "average_optimizers_callback.ipynb",
      "provenance": [],
      "collapsed_sections": [
        "Tce3stUlHN0L"
      ],
      "toc_visible": true
    },
    "kernelspec": {
      "name": "python3",
      "display_name": "Python 3"
    },
    "language_info": {
      "codemirror_mode": {
        "name": "ipython",
        "version": 3
      },
      "file_extension": ".py",
      "mimetype": "text/x-python",
      "name": "python",
      "nbconvert_exporter": "python",
      "pygments_lexer": "ipython3",
      "version": "3.6.3"
    }
  },
  "cells": [
    {
      "cell_type": "code",
      "metadata": {
        "id": "--NIjBp-mhVb",
        "colab_type": "code",
        "outputId": "51510f00-c0cc-4443-cef3-0b1c263e1600",
        "colab": {
          "base_uri": "https://localhost:8080/",
          "height": 404
        }
      },
      "source": [
        "#Build Model\n",
        "model = create_model(moving_avg_sgd)\n",
        "\n",
        "#Train the network\n",
        "model.fit(fmnist_train_ds, epochs=5, callbacks=[avg_callback])"
      ],
      "execution_count": 0,
      "outputs": [
        {
          "output_type": "stream",
          "text": [
            "Train for 1875 steps\n",
            "Epoch 1/5\n",
            "WARNING:tensorflow:From /tensorflow-2.1.0/python3.6/tensorflow_core/python/ops/resource_variable_ops.py:1786: calling BaseResourceVariable.__init__ (from tensorflow.python.ops.resource_variable_ops) with constraint is deprecated and will be removed in a future version.\n",
            "Instructions for updating:\n",
            "If using Keras pass *_constraint arguments to layers.\n",
            "1855/1875 [============================>.] - ETA: 0s - loss: 0.7940 - accuracy: 0.7307INFO:tensorflow:Assets written to: ./training/assets\n",
            "1875/1875 [==============================] - 5s 3ms/step - loss: 0.7924 - accuracy: 0.7312\n",
            "Epoch 2/5\n",
            "1859/1875 [============================>.] - ETA: 0s - loss: 0.5076 - accuracy: 0.8237INFO:tensorflow:Assets written to: ./training/assets\n",
            "1875/1875 [==============================] - 4s 2ms/step - loss: 0.5073 - accuracy: 0.8237\n",
            "Epoch 3/5\n",
            "1874/1875 [============================>.] - ETA: 0s - loss: 0.4585 - accuracy: 0.8390INFO:tensorflow:Assets written to: ./training/assets\n",
            "1875/1875 [==============================] - 4s 2ms/step - loss: 0.4585 - accuracy: 0.8390\n",
            "Epoch 4/5\n",
            "1848/1875 [============================>.] - ETA: 0s - loss: 0.4292 - accuracy: 0.8484INFO:tensorflow:Assets written to: ./training/assets\n",
            "1875/1875 [==============================] - 4s 2ms/step - loss: 0.4301 - accuracy: 0.8480\n",
            "Epoch 5/5\n",
            "1869/1875 [============================>.] - ETA: 0s - loss: 0.4108 - accuracy: 0.8555INFO:tensorflow:Assets written to: ./training/assets\n",
            "1875/1875 [==============================] - 4s 2ms/step - loss: 0.4109 - accuracy: 0.8555\n"
          ],
          "name": "stdout"
        },
        {
          "output_type": "execute_result",
          "data": {
            "text/plain": [
              "<tensorflow.python.keras.callbacks.History at 0x7f410517ed30>"
            ],
            "application/json": {
              "json": {
                "some": "json data"
              },
            },
          },
          "metadata": {
            "tags": []
          },
          "execution_count": 10
        }
      ]
    }
  ]
}
