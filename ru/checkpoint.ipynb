{
  "cells": [
    {
      "cell_type": "markdown",
      "metadata": {
        "colab_type": "text",
        "id": "DR2wQc9x6b3X"
      },
      "source": [
        "<a id=\"loading_mechanics\"></a>\n",
        "\n",
        "## Механика погрузки\n",
        "\n",
        "TensorFlow matches variables to checkpointed values by traversing a directed graph with named edges, starting from the object being loaded. Edge names typically come from attribute names in objects, for example the `\"l1\"` in `self.l1 = tf.keras.layers.Dense(5)`. `tf.train.Checkpoint` uses its keyword argument names, as in the `\"step\"` in `tf.train.Checkpoint(step=...)`.\n",
        "\n",
        "Граф зависимостей из приведенного выше примера выглядит так:\n",
        "\n",
        "![Визуализация графа зависимостей для примера обучающего цикла](https://tensorflow.org/images/guide/whole_checkpoint.svg)\n",
        "\n",
        "С оптимизатором в красном, обычные переменные в синем и переменные слота оптимизатора в оранжевый. Другие узлы, например, представляющие `tf.train.Checkpoint` , являются черными.\n",
        "\n",
        "Переменные слота являются частью состояния оптимизатора, но создаются для определенной переменной. Например, ребра `'m'` выше соответствуют импульсу, который оптимизатор Адама отслеживает для каждой переменной. Переменные слота сохраняются в контрольной точке только в том случае, если переменная и оптимизатор будут сохранены, таким образом, пунктирные ребра."
      ]
    }
  ]
}
