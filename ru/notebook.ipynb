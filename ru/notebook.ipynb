{
  "cells": [
    {
      "cell_type": "markdown",
      "metadata": {
        "colab_type": "text",
        "id": "Tce3stUlHN0L"
      },
      "source": [
        "##### Copyright 2020 The TensorFlow Authors."
      ]
    },
    {
      "cell_type": "code",
      "execution_count": 0,
      "metadata": {
        "cellView": "form",
        "colab": {},
        "colab_type": "code",
        "id": "tuOe1ymfHZPu"
      },
      "outputs": [],
      "source": [
        "#@title Licensed under the Apache License, Version 2.0 (the \"License\");\n",
        "# you may not use this file except in compliance with the License.\n",
        "# You may obtain a copy of the License at\n",
        "#\n",
        "# https://www.apache.org/licenses/LICENSE-2.0\n",
        "#\n",
        "# Unless required by applicable law or agreed to in writing, software\n",
        "# distributed under the License is distributed on an \"AS IS\" BASIS,\n",
        "# WITHOUT WARRANTIES OR CONDITIONS OF ANY KIND, either express or implied.\n",
        "# See the License for the specific language governing permissions and\n",
        "# limitations under the License."
      ]
    },
    {
      "cell_type": "markdown",
      "metadata": {
        "colab_type": "text",
        "id": "qFdPvlXBOdUN"
      },
      "source": [
        "# заглавие"
      ]
    },
    {
      "cell_type": "markdown",
      "metadata": {
        "colab_type": "text",
        "id": "MfBg1C5NB3X0"
      },
      "source": [
        "<table class=\"tfo-notebook-buttons\" align=\"left\">\n",
        "  <td><a target=\"_blank\" href=\"https://www.tensorflow.org/not_a_real_link\"><img src=\"https://www.tensorflow.org/images/tf_logo_32px.png\"> Посмотреть на TensorFlow.org</a></td>\n",
        "  <td><a target=\"_blank\" href=\"https://colab.research.google.com/github/tensorflow/docs/blob/master/tools/templates/notebook.ipynb\"><img src=\"https://www.tensorflow.org/images/colab_logo_32px.png\"> Запустить в Google Colab</a></td>\n",
        "  <td><a target=\"_blank\" href=\"https://github.com/tensorflow/docs/blob/master/tools/templates/notebook.ipynb\"><img src=\"https://www.tensorflow.org/images/GitHub-Mark-32px.png\"> Посмотреть источник на GitHub</a></td>\n",
        "  <td><a href=\"https://storage.googleapis.com/tensorflow_docs/docs/tools/templates/notebook.ipynb\"><img src=\"https://www.tensorflow.org/images/download_logo_32px.png\"> Скачать блокнот</a></td>\n",
        "</table>"
      ]
    },
    {
      "cell_type": "markdown",
      "metadata": {
        "colab_type": "text",
        "id": "r6P32iYYV27b"
      },
      "source": [
        "[Обновить ссылки кнопок]"
      ]
    },
    {
      "cell_type": "markdown",
      "metadata": {
        "colab_type": "text",
        "id": "xHxb-dlhMIzW"
      },
      "source": [
        "## обзор\n",
        "\n",
        "[Включите параграф или два, объясняющие, что демонстрирует этот пример, кого он должен интересовать, и что вам нужно знать перед началом работы.]"
      ]
    },
    {
      "cell_type": "markdown",
      "metadata": {
        "colab_type": "text",
        "id": "MUXex9ctTuDB"
      },
      "source": [
        "## Настроить"
      ]
    },
    {
      "cell_type": "markdown",
      "metadata": {
        "colab_type": "text",
        "id": "1Eh-iCRVBm0p"
      },
      "source": [
        "[Поместите все ваши импорта и установки в разделе настройки.]"
      ]
    },
    {
      "cell_type": "code",
      "execution_count": 0,
      "metadata": {
        "colab": {},
        "colab_type": "code",
        "id": "IqR2PQG4ZaZ0"
      },
      "outputs": [],
      "source": [
        "import tensorflow as tf\n",
        "\n",
        "import numpy as np"
      ]
    },
    {
      "cell_type": "markdown",
      "metadata": {
        "colab_type": "text",
        "id": "UhNtHfuxCGVy"
      },
      "source": [
        "## Ресурсы\n",
        "\n",
        "- [Справочник участника TensorFlow по документации](https://www.tensorflow.org/community/contribute/docs)\n",
        "- [Руководство по стилю документации TensorFlow](https://www.tensorflow.org/community/contribute/docs_style)\n",
        "- [Руководство по стилю документации Google для разработчиков](https://developers.google.com/style/highlights)"
      ]
    },
    {
      "cell_type": "markdown",
      "metadata": {
        "colab_type": "text",
        "id": "2V22fKegUtF9"
      },
      "source": [
        "## Стиль ноутбука\n",
        "\n",
        "- Включите свернутую лицензию вверху (для скрытия ячеек используется режим «Форма» Colab).\n",
        "- Сохраните записную книжку с открытым оглавлением.\n",
        "- Используйте один заголовок `H1` для заголовка.\n",
        "- Включите панель кнопок сразу после `H1` .\n",
        "- Избегайте использования заголовков `H1` для заголовков разделов. Вместо этого используйте `H2` и `H3` .\n",
        "- Заголовки `H4` и ниже не отображаются на панели навигации [tenorflow.org](http://www.tensorflow.org) .\n",
        "- Включите раздел обзора перед любым кодом.\n",
        "- Поместите все ваши установки и импорт в разделе установки.\n",
        "- Always include the `__future__` imports.\n",
        "- Написать Python 3 совместимый код\n",
        "- Держите код и текстовые ячейки как можно более краткими.\n",
        "- Не оставляйте пустую ячейку в конце тетради."
      ]
    },
    {
      "cell_type": "markdown",
      "metadata": {
        "colab_type": "text",
        "id": "QKp40qS-DGEZ"
      },
      "source": [
        "### Кодовый стиль\n",
        "\n",
        "- Тетради для людей. Написать код оптимизирован для ясности.\n",
        "- Используйте руководство по [стилю Google Python](http://google.github.io/styleguide/pyguide.html) , где это применимо.\n",
        "- tenorflow.org не поддерживает интерактивные сюжеты.\n",
        "- Держите примеры быстро. Используйте небольшие наборы данных или небольшие кусочки наборов данных. Не тренируйтесь к конвергенции, тренируйтесь, пока не станет ясно, что она прогрессирует.\n",
        "- Продемонстрируйте небольшие детали, прежде чем объединять их в нечто более сложное, например:"
      ]
    },
    {
      "cell_type": "code",
      "execution_count": 0,
      "metadata": {
        "colab": {},
        "colab_type": "code",
        "id": "KtylpxOmceaC"
      },
      "outputs": [],
      "source": [
        "# Build the model\n",
        "model = tf.keras.Sequential([\n",
        "    tf.keras.layers.Dense(10, activation='relu', input_shape=(None, 5)),\n",
        "    tf.keras.layers.Dense(3)\n",
        "])"
      ]
    },
    {
      "cell_type": "markdown",
      "metadata": {
        "colab_type": "text",
        "id": "pwdM2pl3RSPb"
      },
      "source": [
        "Запустите модель на одном пакете данных и проверьте вывод:"
      ]
    },
    {
      "cell_type": "code",
      "execution_count": 0,
      "metadata": {
        "colab": {},
        "colab_type": "code",
        "id": "mMOeXVmbdilM"
      },
      "outputs": [],
      "source": [
        "result = model(tf.constant(np.random.randn(10,5), dtype = tf.float32)).numpy()\n",
        "\n",
        "print(\"min:\", result.min())\n",
        "print(\"max:\", result.max())\n",
        "print(\"mean:\", result.mean())\n",
        "print(\"shape:\", result.shape)"
      ]
    },
    {
      "cell_type": "markdown",
      "metadata": {
        "colab_type": "text",
        "id": "uabQmjMtRtzs"
      },
      "source": [
        "Скомпилируйте модель для обучения:"
      ]
    },
    {
      "cell_type": "code",
      "execution_count": 0,
      "metadata": {
        "colab": {},
        "colab_type": "code",
        "id": "U82B_tH2d294"
      },
      "outputs": [],
      "source": [
        "model.compile(optimizer=tf.keras.optimizers.Adam(),\n",
        "              loss=tf.keras.losses.categorical_crossentropy)"
      ]
    },
    {
      "cell_type": "markdown",
      "metadata": {
        "colab_type": "text",
        "id": "TJdqBNBbS78n"
      },
      "source": [
        "### Содержание кода\n",
        "\n",
        "- Используйте API самого высокого уровня, который выполняет работу (если цель не состоит в том, чтобы продемонстрировать API низкого уровня).\n",
        "- Use `keras.Sequential` > keras functional api > keras model subclassing > ...\n",
        "- Используйте `model.fit` > `model.train_on_batch` > `GradientTapes` вручную.\n",
        "- Используйте нетерпеливый стиль кода.\n",
        "- Используйте `tensorflow_datasets` и `tf.data` где это возможно.\n",
        "- Избегайте `compat.v1` ."
      ]
    },
    {
      "cell_type": "markdown",
      "metadata": {
        "colab_type": "text",
        "id": "78HBT9cQXJko"
      },
      "source": [
        "### Текст\n",
        "\n",
        "- Используйте императивный стиль. «Запустить пакет изображений через модель».\n",
        "- Используйте регистр предложений в заголовках / заголовках.\n",
        "- Используйте короткие заголовки / заголовки: «Загрузить данные», «Построить модель», «Обучить модель».\n",
        "- Используйте [руководство по стилю документации Google для разработчиков](https://developers.google.com/style/highlights) ."
      ]
    },
    {
      "cell_type": "markdown",
      "metadata": {
        "colab_type": "text",
        "id": "YrsKXcPRUvK9"
      },
      "source": [
        "## GitHub рабочий процесс\n",
        "\n",
        "- Будьте последовательны в том, как вы сохраняете свои записные книжки, иначе различия в JSON будут грязными.\n",
        "- В этом блокноте установлен параметр «Пропустить вывод ячеек кода при сохранении этого блокнота». GitHub отказывается показывать ноутбуки с большими различиями (встроенные изображения).\n",
        "- [ReviewNB.com](http://reviewnb.com) может помочь с различиями. Это связано с комментарием к запросу извлечения ноутбука.\n",
        "- Используйте расширение [Open in Colab,](https://chrome.google.com/webstore/detail/open-in-colab/iogfkhleblhcpcekbiedikdehleodpjo) чтобы открыть записную книжку GitHub в Colab.\n",
        "- Самый простой способ редактировать блокнот в GitHub - это открыть его с помощью Colab из ветви, которую вы хотите редактировать. Затем используйте Файл -> Сохранить копию в GitHub, которая сохранит ее обратно в ветку, из которой вы ее открыли.\n",
        "- Для PR полезно опубликовать прямую ссылку Colab на главу PR: https://colab.research.google.com/github/ndomUSER‹/ndomREPOgoti/blob/ndomBRANCH enj/ enjPATH‹.ipynb."
      ]
    }
  ],
  "metadata": {
    "colab": {
      "collapsed_sections": [
        "Tce3stUlHN0L"
      ],
      "name": "notebook.ipynb",
      "private_outputs": true,
      "provenance": [],
      "toc_visible": true
    },
    "kernelspec": {
      "display_name": "Python 3",
      "name": "python3"
    }
  },
  "nbformat": 4,
  "nbformat_minor": 0
}
