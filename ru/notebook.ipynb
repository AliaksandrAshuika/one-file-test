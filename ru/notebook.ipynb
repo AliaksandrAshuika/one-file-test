{
  "cells": [
    {
      "cell_type": "markdown",
      "metadata": {
        "colab_type": "text",
        "id": "Tce3stUlHN0L"
      },
      "source": [
        "##### Авторские права 2020 Авторы TensorFlow."
      ]
    },
    {
      "cell_type": "code",
      "execution_count": 0,
      "metadata": {
        "cellView": "form",
        "colab": {
        },
        "colab_type": "code",
        "id": "tuOe1ymfHZPu"
      },
      "outputs": [

      ],
      "source": [
        "#@title Licensed under the Apache License, Version 2.0 (the \"License\");\n",
        "# you may not use this file except in compliance with the License.\n",
        "# You may obtain a copy of the License at\n",
        "#\n",
        "# https://www.apache.org/licenses/LICENSE-2.0\n",
        "#\n",
        "# Unless required by applicable law or agreed to in writing, software\n",
        "# distributed under the License is distributed on an \"AS IS\" BASIS,\n",
        "# WITHOUT WARRANTIES OR CONDITIONS OF ANY KIND, either express or implied.\n",
        "# See the License for the specific language governing permissions and\n",
        "# limitations under the License."
      ]
    },
    {
      "cell_type": "markdown",
      "metadata": {
        "colab_type": "text",
        "id": "qFdPvlXBOdUN"
      },
      "source": [
        "# заглавие"
      ]
    },
    {
      "cell_type": "markdown",
      "metadata": {
        "colab_type": "text",
        "id": "MfBg1C5NB3X0"
      },
      "source": [
        "<table class=\"tfo-notebook-buttons\" align=\"left\">\n",
        "  <td><a target=\"_blank\" href=\"https://www.tensorflow.org/not_a_real_link\"><img src=\"https://www.tensorflow.org/images/tf_logo_32px.png\">Посмотреть на TensorFlow.org</a></td>\n",
        "  <td><a target=\"_blank\" href=\"https://colab.research.google.com/github/tensorflow/docs/blob/master/tools/templates/notebook.ipynb\"><img src=\"https://www.tensorflow.org/images/colab_logo_32px.png\">Запускаем в Google Colab</a></td>\n",
        "  <td><a target=\"_blank\" href=\"https://github.com/tensorflow/docs/blob/master/tools/templates/notebook.ipynb\"><img src=\"https://www.tensorflow.org/images/GitHub-Mark-32px.png\">Посмотреть исходный код на GitHub</a></td>\n",
        "  <td><a href=\"https://storage.googleapis.com/tensorflow_docs/docs/tools/templates/notebook.ipynb\"><img src=\"https://www.tensorflow.org/images/download_logo_32px.png\">Скачать блокнот</a></td>\n",
        "</table>"
      ]
    },
    {
      "cell_type": "markdown",
      "metadata": {
        "colab_type": "text",
        "id": "r6P32iYYV27b"
      },
      "source": [
        "[Ссылки кнопки обновления]"
      ]
    },
    {
      "cell_type": "markdown",
      "metadata": {
        "colab_type": "text",
        "id": "xHxb-dlhMIzW"
      },
      "source": [
        "## Обзор\n",
        "\n",
        "[Включите параграф или два, объясняющих, что демонстрирует этот пример, кому это должно быть интересно и что вам нужно знать перед тем, как начать.]"
      ]
    },
    {
      "cell_type": "markdown",
      "metadata": {
        "colab_type": "text",
        "id": "MUXex9ctTuDB"
      },
      "source": [
        "## Настроить"
      ]
    },
    {
      "cell_type": "markdown",
      "metadata": {
        "colab_type": "text",
        "id": "1Eh-iCRVBm0p"
      },
      "source": [
        "[Поместите весь свой импорт и установку в раздел установки.]"
      ]
    },
    {
      "cell_type": "code",
      "execution_count": 0,
      "metadata": {
        "colab": {
        },
        "colab_type": "code",
        "id": "IqR2PQG4ZaZ0"
      },
      "outputs": [

      ],
      "source": [
        "import tensorflow as tf\n",
        "\n",
        "import numpy as np"
      ]
    },
    {
      "cell_type": "markdown",
      "metadata": {
        "colab_type": "text",
        "id": "UhNtHfuxCGVy"
      },
      "source": [
        "## Ресурсы\n",
        "\n",
        "- [Руководство для авторов документации TensorFlow](https://www.tensorflow.org/community/contribute/docs)\n",
        "- [Руководство по стилю документации TensorFlow](https://www.tensorflow.org/community/contribute/docs_style)\n",
        "- [Руководство по стилю документации для разработчиков Google](https://developers.google.com/style/highlights)"
      ]
    },
    {
      "cell_type": "markdown",
      "metadata": {
        "colab_type": "text",
        "id": "2V22fKegUtF9"
      },
      "source": [
        "## Ноутбук стиль\n",
        "\n",
        "- Включите свернутую лицензию вверху (использует режим Colab «Форма», чтобы скрыть ячейки).\n",
        "- Сохраните записную книжку с открытым оглавлением.\n",
        "- Используйте один заголовок `H1` для заголовка.\n",
        "- Включите панель кнопок сразу после `H1` .\n",
        "- Избегайте использования заголовков `H1` для заголовков разделов. Вместо этого используйте `H2` и `H3` .\n",
        "- Заголовки `H4` и ниже не отображаются на панели навигации [tenorflow.org](http://www.tensorflow.org) .\n",
        "- Включите обзорный раздел перед любым кодом.\n",
        "- Поместите все свои установки и импорт в раздел настройки.\n",
        "- Always include the `__future__` imports.\n",
        "- Напишите код, совместимый с Python 3.\n",
        "- Делайте код и текстовые ячейки как можно короче.\n",
        "- Не оставляйте пустую ячейку в конце блокнота."
      ]
    },
    {
      "cell_type": "markdown",
      "metadata": {
        "colab_type": "text",
        "id": "QKp40qS-DGEZ"
      },
      "source": [
        "### Кодовый стиль\n",
        "\n",
        "- Блокноты для людей. Пишите код, оптимизированный для ясности.\n",
        "- При необходимости используйте [Руководство по стилю Google Python](http://google.github.io/styleguide/pyguide.html) .\n",
        "- tenorflow.org не поддерживает интерактивные графики.\n",
        "- Сохраняйте примеры быстро. Используйте небольшие наборы данных или небольшие фрагменты наборов данных. Не тренируйтесь до конвергенции, тренируйтесь, пока не станет очевидным прогресс\n",
        "- Продемонстрируйте небольшие детали, прежде чем объединять их в нечто более сложное, например:"
      ]
    },
    {
      "cell_type": "code",
      "execution_count": 0,
      "metadata": {
        "colab": {
        },
        "colab_type": "code",
        "id": "KtylpxOmceaC"
      },
      "outputs": [

      ],
      "source": [
        "# Build the model\n",
        "model = tf.keras.Sequential([\n",
        "    tf.keras.layers.Dense(10, activation='relu', input_shape=(None, 5)),\n",
        "    tf.keras.layers.Dense(3)\n",
        "])"
      ]
    },
    {
      "cell_type": "markdown",
      "metadata": {
        "colab_type": "text",
        "id": "pwdM2pl3RSPb"
      },
      "source": [
        "Запустите модель на одном пакете данных и проверьте результат:"
      ]
    },
    {
      "cell_type": "code",
      "execution_count": 0,
      "metadata": {
        "colab": {
        },
        "colab_type": "code",
        "id": "mMOeXVmbdilM"
      },
      "outputs": [

      ],
      "source": [
        "result = model(tf.constant(np.random.randn(10,5), dtype = tf.float32)).numpy()\n",
        "\n",
        "print(\"min:\", result.min())\n",
        "print(\"max:\", result.max())\n",
        "print(\"mean:\", result.mean())\n",
        "print(\"shape:\", result.shape)"
      ]
    },
    {
      "cell_type": "markdown",
      "metadata": {
        "colab_type": "text",
        "id": "uabQmjMtRtzs"
      },
      "source": [
        "Составьте модель для обучения:"
      ]
    },
    {
      "cell_type": "code",
      "execution_count": 0,
      "metadata": {
        "colab": {
        },
        "colab_type": "code",
        "id": "U82B_tH2d294"
      },
      "outputs": [

      ],
      "source": [
        "model.compile(optimizer=tf.keras.optimizers.Adam(),\n",
        "              loss=tf.keras.losses.categorical_crossentropy)"
      ]
    },
    {
      "cell_type": "markdown",
      "metadata": {
        "colab_type": "text",
        "id": "TJdqBNBbS78n"
      },
      "source": [
        "### Содержание кода\n",
        "\n",
        "- Используйте API самого высокого уровня, который выполняет свою работу (кроме случаев, когда целью является демонстрация API низкого уровня).\n",
        "- Используйте `keras.Sequential` > функциональный API keras> подкласс модели keras> ...\n",
        "- Используйте `model.fit` > `model.train_on_batch` > manual `GradientTapes` .\n",
        "- Используйте энергичный код.\n",
        "- По возможности используйте `tensorflow_datasets` и `tf.data` .\n",
        "- Избегайте `compat.v1` ."
      ]
    },
    {
      "cell_type": "markdown",
      "metadata": {
        "colab_type": "text",
        "id": "78HBT9cQXJko"
      },
      "source": [
        "### Текст\n",
        "\n",
        "- Используйте императивный стиль. «Проведите серию изображений по модели».\n",
        "- Используйте регистр предложений в заголовках / заголовках.\n",
        "- Используйте короткие заголовки / заголовки: «Загрузить данные», «Построить модель», «Обучить модель».\n",
        "- Используйте [руководство по стилю документации для разработчиков Google](https://developers.google.com/style/highlights) .\n"
      ]
    },
    {
      "cell_type": "markdown",
      "metadata": {
        "colab_type": "text",
        "id": "YrsKXcPRUvK9"
      },
      "source": [
        "## Рабочий процесс GitHub\n",
        "\n",
        "- Будьте последовательны в том, как вы сохраняете свои записные книжки, иначе различия JSON будут беспорядочными.\n",
        "- В этой записной книжке установлен параметр «Не выводить ячейку кода при сохранении записной книжки». GitHub отказывается разделять ноутбуки с большими различиями (встроенными изображениями).\n",
        "- [ReviewNB.com](http://reviewnb.com) может помочь с различиями. Это указано в комментарии к запросу на перенос ноутбука.\n",
        "- Используйте расширение [Open in Colab,](https://chrome.google.com/webstore/detail/open-in-colab/iogfkhleblhcpcekbiedikdehleodpjo) чтобы открыть записную книжку GitHub в Colab.\n",
        "- Самый простой способ редактировать записную книжку в GitHub - открыть ее с помощью Colab из ветки, которую вы хотите редактировать. Затем используйте Файл -> Сохранить копию в GitHub, чтобы сохранить ее обратно в ветку, из которой вы ее открыли.\n",
        "- Для PR полезно разместить прямую ссылку Colab на PR-главу: https://colab.research.google.com/github/{USER}/{REPO}/blob/{BRANCH}/{PATH}.ipynb"
      ]
    }
  ],
  "metadata": {
    "colab": {
      "collapsed_sections": [
        "Tce3stUlHN0L"
      ],
      "name": "test_ru.ipynb",
      "private_outputs": true,
      "provenance": [

      ],
      "toc_visible": true
    },
    "kernelspec": {
      "display_name": "Python 3",
      "name": "python3"
    }
  },
  "nbformat": 4,
  "nbformat_minor": 0
}
