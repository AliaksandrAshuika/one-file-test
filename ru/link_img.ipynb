{
  "cells": [
    {
      "cell_type": "markdown",
      "metadata": {
        "colab_type": "text",
        "id": "DUNzJc4jTj6G"
      },
      "source": [
        "<table class=\"tfo-notebook-buttons\" align=\"left\">\n",
        "  <td>\n",
        "    <p data-md-type=\"paragraph\"><a target=\"_blank\" href=\"https://www.tensorflow.org/tutorials/quickstart/beginner\"><img src=\"https://www.tensorflow.org/images/tf_logo_32px.png\"> Смотрите на TensorFlow.org</a></p>\n",
        "  </td>\n",
        "  <td>\n",
        "    <p data-md-type=\"paragraph\"><a target=\"_blank\" href=\"https://colab.research.google.com/github/tensorflow/docs-l10n/blob/master/site/ru/tutorials/quickstart/beginner.ipynb\"><img src=\"https://www.tensorflow.org/images/colab_logo_32px.png\"> Запустить в Google Colab</a></p>\n",
        "  </td>\n",
        "  <td>\n",
        "    <p data-md-type=\"paragraph\"><a target=\"_blank\" href=\"https://github.com/tensorflow/docs-l10n/blob/master/site/ru/tutorials/quickstart/beginner.ipynb\"><img src=\"https://www.tensorflow.org/images/GitHub-Mark-32px.png\"> Изучайте код на GitHub</a></p>\n",
        "  </td>\n",
        "  <td>\n",
        "    <p data-md-type=\"paragraph\"><a href=\"https://storage.googleapis.com/tensorflow_docs/docs-l10n/site/ru/tutorials/quickstart/beginner.ipynb\"><img src=\"https://www.tensorflow.org/images/download_logo_32px.png\"> Скачайте ноутбук</a></p>\n",
        "  </td>\n",
        "</table>"
      ]
    }
  ],
  "metadata": {
    "colab": {
      "collapsed_sections": [

      ],
      "name": "beginner.ipynb",
      "private_outputs": true,
      "provenance": [

      ],
      "toc_visible": true,
      "version": "0.3.2"
    },
    "kernelspec": {
      "display_name": "Python 3",
      "name": "python3"
    }
  },
  "nbformat": 4,
  "nbformat_minor": 0
}
