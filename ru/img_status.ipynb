{
  "cells": [
    {
      "cell_type": "markdown",
      "metadata": {
        "colab_type": "text",
        "id": "6bYaCABobL5q"
      },
      "source": [
        "### Задачи\n\n",
        "1. [Смотри, как я кодирую](https://www.youtube.com/watch?v=J3_b4461qxU)\n\n",
        "2. [Кодируйте себя](https://github.com/romeokienzler/TensorFlow/blob/master/notebooks/tf2.eagerexec.ipynb)\n\n"
      ]
    }
  ]
}
